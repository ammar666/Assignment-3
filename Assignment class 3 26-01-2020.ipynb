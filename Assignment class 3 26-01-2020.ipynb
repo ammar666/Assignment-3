{
 "cells": [
  {
   "cell_type": "markdown",
   "metadata": {},
   "source": [
    "# ASSIGNMENT CLASS 3"
   ]
  },
  {
   "cell_type": "markdown",
   "metadata": {},
   "source": [
    "# 1.Indexing (part 1)"
   ]
  },
  {
   "cell_type": "code",
   "execution_count": 34,
   "metadata": {},
   "outputs": [
    {
     "name": "stdout",
     "output_type": "stream",
     "text": [
      "Ali is working in Google for 5 years and his salary is 125000\n"
     ]
    }
   ],
   "source": [
    "employee_data = ['Ali', 125000, 'Google', 5]\n",
    "print (employee_data[0],\"is working in\",employee_data[2],\"for\",employee_data[3],\"years and his salary is\",employee_data[1])"
   ]
  },
  {
   "cell_type": "code",
   "execution_count": 40,
   "metadata": {},
   "outputs": [],
   "source": [
    "msg = \"\"\"'{name} is working in {company} for {experience} years and his salary is {salary}'\"\"\""
   ]
  },
  {
   "cell_type": "code",
   "execution_count": 41,
   "metadata": {},
   "outputs": [
    {
     "name": "stdout",
     "output_type": "stream",
     "text": [
      "'Ali is working in Google for 5 years and his salary is 125000'\n"
     ]
    }
   ],
   "source": [
    "print(msg.format(name=employee_data[0],company=employee_data[2],experience=employee_data[3],salary=employee_data[1]))"
   ]
  },
  {
   "cell_type": "code",
   "execution_count": 53,
   "metadata": {},
   "outputs": [],
   "source": [
    "msg = \"\"\"{} is working in {} for {} years and his salary is {}\"\"\""
   ]
  },
  {
   "cell_type": "code",
   "execution_count": 54,
   "metadata": {},
   "outputs": [
    {
     "data": {
      "text/plain": [
       "'Ali is working in Google for 5 years and his salary is 125000'"
      ]
     },
     "execution_count": 54,
     "metadata": {},
     "output_type": "execute_result"
    }
   ],
   "source": [
    "msg.format(employee_data[0] , employee_data[2] , employee_data[3] , employee_data[1])"
   ]
  },
  {
   "cell_type": "markdown",
   "metadata": {},
   "source": [
    "# 2.Indexing (part 2)"
   ]
  },
  {
   "cell_type": "code",
   "execution_count": 55,
   "metadata": {},
   "outputs": [],
   "source": [
    "studentData = ['Ahmed', 'Bilal', 'Government College University', 'Computer Science', 'BS', 50000,'28 Januray 2020', '05 February 2020']"
   ]
  },
  {
   "cell_type": "code",
   "execution_count": 65,
   "metadata": {},
   "outputs": [],
   "source": [
    "msg= \"\"\" \n",
    "'Hello {} {},\n",
    "Your application is accepted for admission in \"{} {}\" in {}.\n",
    "You have to submit fee {} before {}.\n",
    "Your classes will start from {}.\n",
    "Thanks'\"\"\""
   ]
  },
  {
   "cell_type": "code",
   "execution_count": 66,
   "metadata": {},
   "outputs": [
    {
     "name": "stdout",
     "output_type": "stream",
     "text": [
      " \n",
      "'Hello Ahmed Bilal,\n",
      "Your application is accepted for admission in \"BS Computer Science\" in Government College University.\n",
      "You have to submit fee 50000 before 28 Januray 2020.\n",
      "Your classes will start from 05 February 2020.\n",
      "Thanks'\n"
     ]
    }
   ],
   "source": [
    "print(msg.format(studentData[0],studentData[1],studentData[4],studentData[3],studentData[2],studentData[5],studentData[6],studentData[7]))"
   ]
  },
  {
   "cell_type": "markdown",
   "metadata": {},
   "source": [
    "# Slicing"
   ]
  },
  {
   "cell_type": "code",
   "execution_count": 67,
   "metadata": {},
   "outputs": [],
   "source": [
    "cities = [\"Faisalabad\", \"Lahore\", \"Islamabad\", \"Peshawar\", \"Quetta\", \"Sahiwal\", \"Rawalpindi\", \"Sialkot\"]"
   ]
  },
  {
   "cell_type": "code",
   "execution_count": 68,
   "metadata": {},
   "outputs": [
    {
     "data": {
      "text/plain": [
       "['Faisalabad', 'Lahore', 'Islamabad', 'Peshawar']"
      ]
     },
     "execution_count": 68,
     "metadata": {},
     "output_type": "execute_result"
    }
   ],
   "source": [
    "cities[0:4]"
   ]
  },
  {
   "cell_type": "code",
   "execution_count": 69,
   "metadata": {},
   "outputs": [
    {
     "data": {
      "text/plain": [
       "['Islamabad', 'Peshawar', 'Quetta', 'Sahiwal']"
      ]
     },
     "execution_count": 69,
     "metadata": {},
     "output_type": "execute_result"
    }
   ],
   "source": [
    "cities [2:6]"
   ]
  },
  {
   "cell_type": "code",
   "execution_count": 71,
   "metadata": {},
   "outputs": [
    {
     "data": {
      "text/plain": [
       "['Sahiwal', 'Rawalpindi', 'Sialkot']"
      ]
     },
     "execution_count": 71,
     "metadata": {},
     "output_type": "execute_result"
    }
   ],
   "source": [
    "cities [5:9]"
   ]
  },
  {
   "cell_type": "code",
   "execution_count": 76,
   "metadata": {},
   "outputs": [
    {
     "data": {
      "text/plain": [
       "['Quetta', 'Sahiwal', 'Rawalpindi']"
      ]
     },
     "execution_count": 76,
     "metadata": {},
     "output_type": "execute_result"
    }
   ],
   "source": [
    "cities [-4:-1]"
   ]
  },
  {
   "cell_type": "code",
   "execution_count": 77,
   "metadata": {},
   "outputs": [
    {
     "data": {
      "text/plain": [
       "['Peshawar', 'Quetta', 'Sahiwal', 'Rawalpindi', 'Sialkot']"
      ]
     },
     "execution_count": 77,
     "metadata": {},
     "output_type": "execute_result"
    }
   ],
   "source": [
    "cities [-5:]"
   ]
  },
  {
   "cell_type": "markdown",
   "metadata": {},
   "source": [
    "# Update List"
   ]
  },
  {
   "cell_type": "code",
   "execution_count": 78,
   "metadata": {},
   "outputs": [],
   "source": [
    "studentData = [\"Ali Raza\", 22, 91.24, \"Computer Science\", 5, \"University of Agriculture\"]"
   ]
  },
  {
   "cell_type": "code",
   "execution_count": 79,
   "metadata": {},
   "outputs": [],
   "source": [
    "studentData.append('20 February 2019')\n",
    "studentData.append(8)"
   ]
  },
  {
   "cell_type": "code",
   "execution_count": 83,
   "metadata": {},
   "outputs": [
    {
     "name": "stdout",
     "output_type": "stream",
     "text": [
      "['Ali Raza', 22, 91.24, 'Computer Science', 5, 'University of Agriculture', '20 February 2019', 8]\n"
     ]
    }
   ],
   "source": [
    "print (studentData)"
   ]
  },
  {
   "cell_type": "code",
   "execution_count": 84,
   "metadata": {},
   "outputs": [],
   "source": [
    "studentData.insert(4,25000)\n",
    "studentData.insert(1,\"M. Iqbal\")"
   ]
  },
  {
   "cell_type": "code",
   "execution_count": 85,
   "metadata": {},
   "outputs": [
    {
     "name": "stdout",
     "output_type": "stream",
     "text": [
      "['Ali Raza', 'M. Iqbal', 22, 91.24, 'Computer Science', 25000, 5, 'University of Agriculture', '20 February 2019', 8]\n"
     ]
    }
   ],
   "source": [
    "print (studentData)"
   ]
  },
  {
   "cell_type": "code",
   "execution_count": 86,
   "metadata": {},
   "outputs": [
    {
     "name": "stdout",
     "output_type": "stream",
     "text": [
      "['Zohaib Ali', 'M. Iqbal', 22, 91.24, 'Computer Science', 25000, 7, 'University of Agriculture', '20 February 2019', 8]\n"
     ]
    }
   ],
   "source": [
    "studentData[0] = \"Zohaib Ali\"\n",
    "studentData[6] = 7\n",
    "print (studentData)"
   ]
  },
  {
   "cell_type": "code",
   "execution_count": 87,
   "metadata": {},
   "outputs": [
    {
     "name": "stdout",
     "output_type": "stream",
     "text": [
      "['Zohaib Ali', 'M. Iqbal', 22, 25000, 7, 'University of Agriculture', '20 February 2019', 8]\n"
     ]
    }
   ],
   "source": [
    "studentData.remove('Computer Science')\n",
    "studentData.remove(91.24)\n",
    "print (studentData)"
   ]
  },
  {
   "cell_type": "code",
   "execution_count": 88,
   "metadata": {},
   "outputs": [
    {
     "name": "stdout",
     "output_type": "stream",
     "text": [
      "['Zohaib Ali', 'M. Iqbal', 22, 7, 'University of Agriculture', '20 February 2019']\n"
     ]
    }
   ],
   "source": [
    "studentData.pop(-1)\n",
    "studentData.pop(3)\n",
    "print (studentData)"
   ]
  },
  {
   "cell_type": "markdown",
   "metadata": {},
   "source": [
    "# Multidimensional list tasks"
   ]
  },
  {
   "cell_type": "code",
   "execution_count": 89,
   "metadata": {},
   "outputs": [],
   "source": [
    "employeeData = [[\"Ali\", 35000, \"Software Engineer\"],[\"Talha\", 55000, \"Product Manager\"],[\"Nasir\", 79000, \"Computer Engineer\"],[\"Khalid\", 44000, \"DBA\"]]"
   ]
  },
  {
   "cell_type": "code",
   "execution_count": 94,
   "metadata": {},
   "outputs": [
    {
     "data": {
      "text/plain": [
       "[['Talha', 55000], ['Nasir', 79000]]"
      ]
     },
     "execution_count": 94,
     "metadata": {},
     "output_type": "execute_result"
    }
   ],
   "source": [
    "name_salary_greater_50k = []\n",
    "for A in employeeData :\n",
    "    salary = A[1]\n",
    "    if salary > 50000:\n",
    "         name_salary_greater_50k.append([A[0],A[1]])\n",
    "name_salary_greater_50k"
   ]
  },
  {
   "cell_type": "code",
   "execution_count": 95,
   "metadata": {},
   "outputs": [
    {
     "data": {
      "text/plain": [
       "213000"
      ]
     },
     "execution_count": 95,
     "metadata": {},
     "output_type": "execute_result"
    }
   ],
   "source": [
    "total_salary = 0\n",
    "for b in employeeData:\n",
    "    total_salary += b[1]\n",
    "total_salary"
   ]
  },
  {
   "cell_type": "code",
   "execution_count": 100,
   "metadata": {},
   "outputs": [
    {
     "name": "stdout",
     "output_type": "stream",
     "text": [
      "[['Ali', 35000, 'Software Engineer'], ['Talha', 55000, 'Product Manager'], ['Nasir', 90000, 'Product Manager'], ['Khalid', 44000, 'DBA']]\n"
     ]
    }
   ],
   "source": [
    "for c in employeeData:\n",
    "    if c[1]== 79000:\n",
    "        c[1]= 90000\n",
    "    if c[2]== \"Computer Engineer\":\n",
    "        c[2]= \"Product Manager\"\n",
    "print(employeeData)"
   ]
  },
  {
   "cell_type": "code",
   "execution_count": 101,
   "metadata": {},
   "outputs": [
    {
     "name": "stdout",
     "output_type": "stream",
     "text": [
      "[['Ali', 35000, 'Software Engineer'], ['Talha', 55000, 'Product Manager'], ['Nasir', 90000, 'Product Manager'], ['Khalid', 50000, 'DBA']]\n"
     ]
    }
   ],
   "source": [
    "for d in employeeData:\n",
    "    if d[1]== 44000:\n",
    "        d[1]= 50000\n",
    "print (employeeData)"
   ]
  },
  {
   "cell_type": "code",
   "execution_count": 114,
   "metadata": {},
   "outputs": [],
   "source": [
    "username = \"faizan1214\"\n",
    "password = \"qwerty\"\n",
    "emailVerified = False"
   ]
  },
  {
   "cell_type": "code",
   "execution_count": 115,
   "metadata": {},
   "outputs": [
    {
     "name": "stdout",
     "output_type": "stream",
     "text": [
      "Email not verified\n"
     ]
    }
   ],
   "source": [
    "if username == \"faizan1214\" and password == \"qwerty\":\n",
    "    if emailVerified == True:\n",
    "        print (\"Login Succeed\")\n",
    "    else:\n",
    "            print (\"Email not verified\")\n",
    "else:\n",
    "    print(\"Incorrect Login details\")"
   ]
  },
  {
   "cell_type": "code",
   "execution_count": 116,
   "metadata": {},
   "outputs": [
    {
     "name": "stdout",
     "output_type": "stream",
     "text": [
      "Login Succeed\n"
     ]
    }
   ],
   "source": [
    "username = \"faizan1214\"\n",
    "password = \"qwerty\"\n",
    "emailVerified = True\n",
    "if username == \"faizan1214\" and password == \"qwerty\":\n",
    "    if emailVerified == True:\n",
    "        print (\"Login Succeed\")\n",
    "    else:\n",
    "            print (\"Email not verified\")\n",
    "else:\n",
    "    print(\"Incorrect Login details\")"
   ]
  },
  {
   "cell_type": "code",
   "execution_count": null,
   "metadata": {},
   "outputs": [],
   "source": []
  }
 ],
 "metadata": {
  "kernelspec": {
   "display_name": "Python 3",
   "language": "python",
   "name": "python3"
  },
  "language_info": {
   "codemirror_mode": {
    "name": "ipython",
    "version": 3
   },
   "file_extension": ".py",
   "mimetype": "text/x-python",
   "name": "python",
   "nbconvert_exporter": "python",
   "pygments_lexer": "ipython3",
   "version": "3.7.4"
  }
 },
 "nbformat": 4,
 "nbformat_minor": 2
}
